{
 "cells": [
  {
   "cell_type": "code",
   "execution_count": 26,
   "id": "41d1ab84",
   "metadata": {},
   "outputs": [],
   "source": [
    "import torch\n",
    "from pathlib import Path\n",
    "import pandas as pd\n",
    "import io\n",
    "import matplotlib.pyplot as plt\n",
    "import numpy as np\n",
    "import torchvision\n",
    "import torchvision.transforms as transforms\n",
    "from torch.utils.data.sampler import SubsetRandomSampler\n",
    "from torch.utils.data.dataloader import DataLoader\n",
    "import torch.nn as nn\n",
    "import torch.nn.functional as F"
   ]
  },
  {
   "cell_type": "code",
   "execution_count": 5,
   "id": "854002af",
   "metadata": {},
   "outputs": [
    {
     "name": "stdout",
     "output_type": "stream",
     "text": [
      "Downloading https://www.cs.toronto.edu/~kriz/cifar-10-python.tar.gz to ./data\\cifar-10-python.tar.gz\n"
     ]
    },
    {
     "name": "stderr",
     "output_type": "stream",
     "text": [
      "100.0%\n"
     ]
    },
    {
     "name": "stdout",
     "output_type": "stream",
     "text": [
      "Extracting ./data\\cifar-10-python.tar.gz to ./data\n",
      "Files already downloaded and verified\n"
     ]
    }
   ],
   "source": [
    "trainset = torchvision.datasets.CIFAR10(root='./data', train=True,\n",
    "                                        download=True)\n",
    "testset = torchvision.datasets.CIFAR10(root='./data', train=False,\n",
    "                                        download=True)\n",
    "# labels \n",
    "classes = ('plane', 'car', 'bird', 'cat',\n",
    "           'deer', 'dog', 'frog', 'horse', 'ship', 'truck')\n"
   ]
  },
  {
   "cell_type": "code",
   "execution_count": 6,
   "id": "c5b3dcc9",
   "metadata": {},
   "outputs": [
    {
     "name": "stdout",
     "output_type": "stream",
     "text": [
      "length of training set: 50000\n",
      "length of test set: 10000\n",
      "this is an image of a frog\n"
     ]
    },
    {
     "data": {
      "text/plain": [
       "<matplotlib.image.AxesImage at 0x280fd789f60>"
      ]
     },
     "execution_count": 6,
     "metadata": {},
     "output_type": "execute_result"
    },
    {
     "data": {
      "image/png": "[encoded data removed]",
      "text/plain": [
       "<Figure size 640x480 with 1 Axes>"
      ]
     },
     "metadata": {},
     "output_type": "display_data"
    }
   ],
   "source": [
    "print('length of training set: ' + str(len(trainset)))\n",
    "print('length of test set: ' + str(len(testset)))\n",
    "example = 0\n",
    "image, label = trainset[example] #since each element of the trainset list is itself a tuple with the image details, and then the label\n",
    "print(\"this is an image of a \" + classes[(trainset[example])[1]]) # first index into tuple in trainset, then the 2nd value (label), and then the classes\n",
    "plt.imshow(image)"
   ]
  },
  {
   "cell_type": "code",
   "execution_count": 7,
   "id": "4877a95b",
   "metadata": {},
   "outputs": [
    {
     "name": "stdout",
     "output_type": "stream",
     "text": [
      "Files already downloaded and verified\n"
     ]
    }
   ],
   "source": [
    "datasetT = torchvision.datasets.CIFAR10(root='./data', train=True,\n",
    "                                        download=True, transform=transforms.ToTensor())"
   ]
  },
  {
   "cell_type": "code",
   "execution_count": 8,
   "id": "41af5a89",
   "metadata": {},
   "outputs": [
    {
     "name": "stdout",
     "output_type": "stream",
     "text": [
      "R channel of image 0 in dataset\n"
     ]
    },
    {
     "data": {
      "image/png": "[encoded data removed]",
      "text/plain": [
       "<Figure size 640x480 with 1 Axes>"
      ]
     },
     "metadata": {},
     "output_type": "display_data"
    }
   ],
   "source": [
    "example = 21344\n",
    "imgTensor, label = datasetT[example]\n",
    "plt.imshow(imgTensor[1, 0:32, 0:32], cmap='Greens')\n",
    "# change the 0 to 1 or 2 for different color channels.\n",
    "print(\"R channel of image 0 in dataset\")\n"
   ]
  },
  {
   "cell_type": "code",
   "execution_count": 16,
   "id": "39332eaa",
   "metadata": {},
   "outputs": [
    {
     "name": "stdout",
     "output_type": "stream",
     "text": [
      "amount of training examples: 40000\n",
      "amount of cross validation examples: 10000\n"
     ]
    }
   ],
   "source": [
    "#length of training examples.\n",
    "m = 50000 \n",
    "\n",
    "#percentage of m dedicated to CV.  \n",
    "pCV = 0.2\n",
    "\n",
    "# give the amount of examples dedicated to CV. \n",
    "mCV = int(m*pCV)\n",
    "print(\"amount of training examples: \" + str(m - mCV))\n",
    "print(\"amount of cross validation examples: \" + str(mCV))\n"
   ]
  },
  {
   "cell_type": "code",
   "execution_count": 17,
   "id": "2126039b",
   "metadata": {},
   "outputs": [],
   "source": [
    "def splitIndices(m, pCV):\n",
    "  \"\"\" randomly shuffle a training set's indices, then split the indices into training and cross validation sets.\n",
    "   Pass in 'm', length of training set, and 'pCV', the percentage of the training set you would like \n",
    "   to dedicate to cross validation.\"\"\"\n",
    "   \n",
    "  # determine size of CV set.\n",
    "  mCV = int(m*pCV)\n",
    "\n",
    "  #create random permutation of 0 to m-1 - randomly shuffle all values from 0 to m.\n",
    "  indices = np.random.permutation(m)\n",
    "\n",
    "  #pick first mCV indices for training, and then validation.\n",
    "  return indices[mCV:], indices[:mCV]\n"
   ]
  },
  {
   "cell_type": "code",
   "execution_count": 18,
   "id": "931b69b5",
   "metadata": {},
   "outputs": [],
   "source": [
    "trainIndices, valIndices = splitIndices(m, pCV)"
   ]
  },
  {
   "cell_type": "code",
   "execution_count": 20,
   "id": "37ccd8a3",
   "metadata": {},
   "outputs": [
    {
     "name": "stderr",
     "output_type": "stream",
     "text": [
      "IOPub data rate exceeded.\n",
      "The notebook server will temporarily stop sending output\n",
      "to the client in order to avoid crashing it.\n",
      "To change this limit, set the config variable\n",
      "`--NotebookApp.iopub_data_rate_limit`.\n",
      "\n",
      "Current values:\n",
      "NotebookApp.iopub_data_rate_limit=1000000.0 (bytes/sec)\n",
      "NotebookApp.rate_limit_window=3.0 (secs)\n",
      "\n"
     ]
    }
   ],
   "source": [
    "batchSize = 100\n",
    "\n",
    "# TRAIN SET\n",
    "\n",
    "# training sampler and data loader - creates a SubsetRandomSampler object that takes random samples of the numbers in trainIndices, or random indices.\n",
    "trainSampler = SubsetRandomSampler(trainIndices)\n",
    "\n",
    "\n",
    "# training loader - creates a dataloader object which takes the indices from trainSampler, \n",
    "# and when given batchSize, takes random batches of batchSize from the indices list, and then pairs it with\n",
    "# the respective dataset in datasetT\n",
    "trainLoader = DataLoader(datasetT, batchSize, sampler=trainSampler)\n",
    "\n",
    "print(list(trainLoader))\n",
    "\n",
    "# VALIDATION SET\n",
    "\n",
    "valSampler = SubsetRandomSampler(valIndices)\n",
    "valLoader = DataLoader(datasetT, batchSize, sampler=valSampler)"
   ]
  },
  {
   "cell_type": "code",
   "execution_count": 22,
   "id": "4abe4792",
   "metadata": {},
   "outputs": [],
   "source": [
    "# this will dictate the rows of the theta matrix\n",
    "inputSize = 3*32*32\n",
    "\n",
    "# this will dictate the columns of the theta matrix\n",
    "numClasses = 10\n",
    "\n",
    "# create our linear regression model (nn.Linear creates bias terms for us)\n",
    "model = nn.Linear(inputSize, numClasses)"
   ]
  },
  {
   "cell_type": "code",
   "execution_count": 23,
   "id": "d079cd67",
   "metadata": {},
   "outputs": [
    {
     "name": "stdout",
     "output_type": "stream",
     "text": [
      "dimensions of weight matrix: torch.Size([10, 3072])\n",
      "Parameter containing:\n",
      "tensor([[ 0.0036, -0.0080, -0.0063,  ..., -0.0124, -0.0071, -0.0138],\n",
      "        [ 0.0162,  0.0082,  0.0127,  ..., -0.0123,  0.0013, -0.0080],\n",
      "        [-0.0142,  0.0076, -0.0133,  ...,  0.0065,  0.0123,  0.0044],\n",
      "        ...,\n",
      "        [-0.0010, -0.0067, -0.0057,  ...,  0.0149, -0.0148,  0.0174],\n",
      "        [-0.0170,  0.0084, -0.0134,  ...,  0.0149, -0.0084,  0.0007],\n",
      "        [ 0.0085,  0.0145, -0.0082,  ..., -0.0062,  0.0037,  0.0120]],\n",
      "       requires_grad=True)\n",
      "dimensions of bias matrix: torch.Size([10])\n",
      "Parameter containing:\n",
      "tensor([-0.0062,  0.0016, -0.0072,  0.0173, -0.0135, -0.0116,  0.0047,  0.0121,\n",
      "         0.0133,  0.0131], requires_grad=True)\n"
     ]
    }
   ],
   "source": [
    "print('dimensions of weight matrix: ' + str(model.weight.shape))\n",
    "print(model.weight)\n",
    "print('dimensions of bias matrix: ' + str(model.bias.shape))\n",
    "print(model.bias)"
   ]
  },
  {
   "cell_type": "code",
   "execution_count": 24,
   "id": "df77f3c1",
   "metadata": {},
   "outputs": [],
   "source": [
    "class CIFAR10(nn.Module):\n",
    "    def __init__(self):\n",
    "        super().__init__()\n",
    "        self.linear = nn.Linear(inputSize, numClasses)\n",
    "        \n",
    "    def forward(self, xb):\n",
    "        xb = xb.reshape(-1, 3072)\n",
    "        out = self.linear(xb)\n",
    "        return out\n",
    "    \n",
    "model = CIFAR10()"
   ]
  },
  {
   "cell_type": "code",
   "execution_count": 25,
   "id": "1dd2a826",
   "metadata": {},
   "outputs": [
    {
     "name": "stdout",
     "output_type": "stream",
     "text": [
      "outputs.shape : torch.Size([100, 10])\n",
      "sample outputs :\n",
      " tensor([[ 0.2070, -0.0774,  0.4415, -0.0370, -0.1347,  0.4828, -0.0093,  0.0576,\n",
      "          0.2257,  0.0261],\n",
      "        [ 0.1938, -0.0978,  0.4522, -0.2203, -0.0817,  0.1911, -0.0268,  0.0401,\n",
      "          0.0973,  0.0392]], grad_fn=<SliceBackward0>)\n"
     ]
    }
   ],
   "source": [
    "for images, labels in trainLoader:\n",
    "  outputs = model(images)\n",
    "  break\n",
    "\n",
    "print('outputs.shape :', outputs.shape)\n",
    "print('sample outputs :\\n', outputs[:2]) # print 2 out of the 100 rows of the total output vector"
   ]
  },
  {
   "cell_type": "code",
   "execution_count": 27,
   "id": "3504077e",
   "metadata": {},
   "outputs": [
    {
     "name": "stdout",
     "output_type": "stream",
     "text": [
      "sample probabilities:\n",
      " tensor([[0.1070, 0.0805, 0.1352, 0.0838, 0.0760, 0.1409, 0.0862, 0.0921, 0.1090,\n",
      "         0.0893],\n",
      "        [0.1126, 0.0841, 0.1458, 0.0744, 0.0855, 0.1123, 0.0903, 0.0965, 0.1022,\n",
      "         0.0964]])\n",
      "tensor(1., grad_fn=<AddBackward0>)\n"
     ]
    }
   ],
   "source": [
    "# apply the softmax for each output row in our 100 x 10 output (with batch size 100)\n",
    "probs = F.softmax(outputs, dim=1)\n",
    "\n",
    "# look at some sample probabilities\n",
    "print(\"sample probabilities:\\n\", probs[:2].data)\n",
    "# add up the probabilities of each row for a sanity check that they equal 1 now\n",
    "print(sum(list(probs[0])))"
   ]
  },
  {
   "cell_type": "code",
   "execution_count": 30,
   "id": "904c22b1",
   "metadata": {},
   "outputs": [
    {
     "name": "stdout",
     "output_type": "stream",
     "text": [
      "tensor([5, 2, 5, 5, 5, 2, 5, 5, 5, 5, 5, 2, 2, 5, 5, 5, 5, 5, 5, 2, 5, 5, 5, 5,\n",
      "        5, 5, 5, 5, 0, 2, 5, 5, 2, 5, 2, 2, 5, 6, 2, 2, 5, 2, 5, 5, 5, 5, 5, 2,\n",
      "        5, 2, 5, 5, 5, 5, 5, 2, 5, 5, 5, 5, 2, 2, 5, 2, 5, 5, 5, 2, 2, 5, 2, 5,\n",
      "        0, 5, 5, 5, 5, 2, 5, 2, 2, 5, 0, 5, 5, 5, 5, 5, 5, 2, 5, 2, 5, 5, 5, 5,\n",
      "        5, 5, 5, 0])\n",
      "tensor([0.1409, 0.1458, 0.1529, 0.1507, 0.1392, 0.1589, 0.1378, 0.1424, 0.1465,\n",
      "        0.1423, 0.1411, 0.1346, 0.1736, 0.1205, 0.1527, 0.1350, 0.1406, 0.1488,\n",
      "        0.1401, 0.1481, 0.1568, 0.1359, 0.1596, 0.1490, 0.1405, 0.1520, 0.1389,\n",
      "        0.1237, 0.1307, 0.1429, 0.1365, 0.1331, 0.1387, 0.1479, 0.1392, 0.1410,\n",
      "        0.1509, 0.1289, 0.1344, 0.1461, 0.1481, 0.2075, 0.1380, 0.1550, 0.1603,\n",
      "        0.1382, 0.1421, 0.1319, 0.1373, 0.1636, 0.1281, 0.1312, 0.1465, 0.1439,\n",
      "        0.1526, 0.1294, 0.1386, 0.1746, 0.1541, 0.1630, 0.1396, 0.1399, 0.1630,\n",
      "        0.1629, 0.1257, 0.1401, 0.1336, 0.1558, 0.1442, 0.1240, 0.1210, 0.1564,\n",
      "        0.1203, 0.1528, 0.1320, 0.1292, 0.1484, 0.1517, 0.1500, 0.1501, 0.1666,\n",
      "        0.1359, 0.1543, 0.1229, 0.1403, 0.1590, 0.1459, 0.1427, 0.1638, 0.1840,\n",
      "        0.1553, 0.1597, 0.1330, 0.1494, 0.1332, 0.1375, 0.1493, 0.1393, 0.1428,\n",
      "        0.1456], grad_fn=<MaxBackward0>)\n"
     ]
    },
    {
     "data": {
      "text/plain": [
       "tensor([False, False, False, False, False, False, False, False, False, False,\n",
       "        False, False, False, False,  True, False,  True, False, False, False,\n",
       "         True, False, False, False, False, False,  True, False, False, False,\n",
       "        False, False, False, False, False, False, False, False, False, False,\n",
       "        False, False, False, False, False, False, False, False, False, False,\n",
       "        False, False, False, False, False, False, False, False, False, False,\n",
       "        False, False,  True, False, False, False, False, False, False, False,\n",
       "        False, False, False, False, False, False,  True, False, False, False,\n",
       "        False, False, False, False,  True, False, False, False, False, False,\n",
       "        False, False,  True,  True, False, False, False, False, False, False])"
      ]
     },
     "execution_count": 30,
     "metadata": {},
     "output_type": "execute_result"
    }
   ],
   "source": [
    "maxProbs, preds = torch.max(probs, dim=1) #torch.max returns the max value itself (maxProbs) as well as the index of the prediction (preds)\n",
    "print(preds)\n",
    "print(maxProbs)\n",
    "labels==preds"
   ]
  },
  {
   "cell_type": "code",
   "execution_count": 31,
   "id": "64b677e0",
   "metadata": {},
   "outputs": [],
   "source": [
    "def accuracy(preds, labels):\n",
    "  return torch.sum(labels==preds).item() / len(labels)"
   ]
  },
  {
   "cell_type": "code",
   "execution_count": 32,
   "id": "049160f0",
   "metadata": {},
   "outputs": [
    {
     "data": {
      "text/plain": [
       "0.09"
      ]
     },
     "execution_count": 32,
     "metadata": {},
     "output_type": "execute_result"
    }
   ],
   "source": [
    "accuracy(preds, labels)"
   ]
  },
  {
   "cell_type": "code",
   "execution_count": 33,
   "id": "32790bcf",
   "metadata": {},
   "outputs": [
    {
     "name": "stdout",
     "output_type": "stream",
     "text": [
      "tensor(2.3532, grad_fn=<NllLossBackward0>)\n"
     ]
    }
   ],
   "source": [
    "lossFn = F.cross_entropy\n",
    "# loss for current batch of data\n",
    "# remember that outputs are our thetas gathered from the model\n",
    "# labels is correct answers from dataLoader\n",
    "loss = lossFn(outputs, labels)\n",
    "print(loss)"
   ]
  },
  {
   "cell_type": "code",
   "execution_count": 34,
   "id": "b544efc3",
   "metadata": {},
   "outputs": [],
   "source": [
    "learningRate = 0.001\n",
    "optimizer = torch.optim.SGD(model.parameters(), lr=learningRate)"
   ]
  },
  {
   "cell_type": "code",
   "execution_count": 35,
   "id": "486d3d4f",
   "metadata": {},
   "outputs": [],
   "source": [
    "# recall that xb is the X (a list batchSize long of 3x32x32 images) for a batch. yb is the corresponding labels for those images.\n",
    "\n",
    "def lossBatch(model, lossFn, xb, yb, opt=None, metric=None):\n",
    "  # calculate the loss\n",
    "  preds = model(xb)\n",
    "  loss = lossFn(preds, yb)\n",
    "\n",
    "  if opt is not None:\n",
    "    # compute gradients\n",
    "    loss.backward()\n",
    "    # update parameters\n",
    "    opt.step()\n",
    "    # reset gradients to 0 (don't want to calculate second derivatives!)\n",
    "    opt.zero_grad()\n",
    "\n",
    "  metricResult = None\n",
    "  if metric is not None:\n",
    "    metricResult = metric(preds, yb)\n",
    "\n",
    "  return loss.item(), len(xb),  metricResult"
   ]
  },
  {
   "cell_type": "code",
   "execution_count": 36,
   "id": "e14d2c58",
   "metadata": {},
   "outputs": [],
   "source": [
    "def evaluate(model, lossFn, validDL, metric=None):\n",
    "  #with torch.no_grad (this was causing an error)\n",
    "  \n",
    "  # pass each batch of the validation set through the model to form a multidimensional list (holding loss, length and metric for each batch)\n",
    "  # the reason why we made optimization optional is so we can reuse the function here\n",
    "  results = [lossBatch(model, lossFn, xb, yb, metric=metric,) for xb,yb in validDL]\n",
    "\n",
    "  # separate losses, counts and metrics\n",
    "  losses, nums, metrics = zip(*results)\n",
    "\n",
    "  # total size of the dataset (we keep track of lengths of batches since dataset might not be perfectly divisible by batch size)\n",
    "  total = np.sum(nums)\n",
    "\n",
    "  # find average total loss over all batches in validation (remember these are all vectors doing element wise operations.)\n",
    "  avgLoss = np.sum(np.multiply(losses, nums))/total\n",
    "\n",
    "  # if there is a metric passed, compute the average metric\n",
    "  if metric is not None:\n",
    "    # avg of metric accross batches\n",
    "    avgMetric = np.sum(np.multiply(metrics, nums)) / total\n",
    "\n",
    "  return avgLoss, total, avgMetric"
   ]
  },
  {
   "cell_type": "code",
   "execution_count": 37,
   "id": "82017001",
   "metadata": {},
   "outputs": [],
   "source": [
    "def accuracy(outputs, labels):\n",
    "  _, preds = torch.max(outputs, dim=1) # underscore discards the max value itself, we don't care about that\n",
    "  return torch.sum(preds == labels).item() / len(preds)"
   ]
  },
  {
   "cell_type": "code",
   "execution_count": 38,
   "id": "69f3dc05",
   "metadata": {},
   "outputs": [
    {
     "name": "stdout",
     "output_type": "stream",
     "text": [
      "training set loss:  tensor(2.3532, grad_fn=<NllLossBackward0>)\n",
      "cross validation set loss:  2.32290647983551\n"
     ]
    }
   ],
   "source": [
    "E = evaluate(model, lossFn, valLoader, metric=accuracy)\n",
    "\n",
    "print(\"training set loss: \", loss)\n",
    "print(\"cross validation set loss: \", E[0])"
   ]
  },
  {
   "cell_type": "code",
   "execution_count": 39,
   "id": "2829f464",
   "metadata": {},
   "outputs": [],
   "source": [
    "def fit(epochs, model, lossFn, opt, trainDL, valDL, metric=None):\n",
    "  valList = [0.10]\n",
    "  for epoch in range(epochs):\n",
    "    # training - perform one step gradient descent on each batch, then moves on\n",
    "    for xb, yb in trainDL: \n",
    "      loss,_,lossMetric = lossBatch(model, lossFn, xb, yb, opt)\n",
    "      \n",
    "\n",
    "    # evaluation on cross val dataset - after updating over all batches, technically one epoch\n",
    "    # evaluates over all validation batches and then calculates average val loss, as well as the metric (accuracy)\n",
    "    valResult = evaluate(model, lossFn, valDL, metric)\n",
    "    valLoss, total, valMetric = valResult\n",
    "    valList.append(valMetric)\n",
    "    # print progress\n",
    "    if metric is None: \n",
    "      print('Epoch [{}/{}], Loss: {:.4f}'.format(epoch + 1, epochs, valLoss))\n",
    "    else:\n",
    "      print('Epoch [{}/{}], Loss: {:.4f}, {}: {:.4f}'.format(epoch + 1, epochs, valLoss, metric.__name__, valMetric))\n",
    "\n",
    "  return valList"
   ]
  },
  {
   "cell_type": "code",
   "execution_count": 40,
   "id": "ab73c4de",
   "metadata": {},
   "outputs": [],
   "source": [
    "# redefine model and optimizer\n",
    "learningRate = 0.009\n",
    "model = CIFAR10()\n",
    "optimizer = torch.optim.SGD(model.parameters(), lr=learningRate)"
   ]
  },
  {
   "cell_type": "code",
   "execution_count": 41,
   "id": "4248d9b4",
   "metadata": {},
   "outputs": [
    {
     "name": "stdout",
     "output_type": "stream",
     "text": [
      "Epoch [1/100], Loss: 1.9143, accuracy: 0.3200\n",
      "Epoch [2/100], Loss: 1.8531, accuracy: 0.3598\n",
      "Epoch [3/100], Loss: 1.8410, accuracy: 0.3494\n",
      "Epoch [4/100], Loss: 1.8117, accuracy: 0.3741\n",
      "Epoch [5/100], Loss: 1.8287, accuracy: 0.3645\n",
      "Epoch [6/100], Loss: 1.7907, accuracy: 0.3812\n",
      "Epoch [7/100], Loss: 1.8001, accuracy: 0.3765\n",
      "Epoch [8/100], Loss: 1.7920, accuracy: 0.3826\n",
      "Epoch [9/100], Loss: 1.8139, accuracy: 0.3631\n",
      "Epoch [10/100], Loss: 1.7719, accuracy: 0.3844\n",
      "Epoch [11/100], Loss: 1.7763, accuracy: 0.3810\n",
      "Epoch [12/100], Loss: 1.7684, accuracy: 0.3855\n",
      "Epoch [13/100], Loss: 1.7835, accuracy: 0.3814\n",
      "Epoch [14/100], Loss: 1.7578, accuracy: 0.3917\n",
      "Epoch [15/100], Loss: 1.7748, accuracy: 0.3809\n",
      "Epoch [16/100], Loss: 1.7642, accuracy: 0.3854\n",
      "Epoch [17/100], Loss: 1.7737, accuracy: 0.3868\n",
      "Epoch [18/100], Loss: 1.7955, accuracy: 0.3817\n",
      "Epoch [19/100], Loss: 1.7512, accuracy: 0.3979\n",
      "Epoch [20/100], Loss: 1.7580, accuracy: 0.3970\n",
      "Epoch [21/100], Loss: 1.7612, accuracy: 0.3963\n",
      "Epoch [22/100], Loss: 1.7616, accuracy: 0.3909\n",
      "Epoch [23/100], Loss: 1.7559, accuracy: 0.3927\n",
      "Epoch [24/100], Loss: 1.7553, accuracy: 0.3931\n",
      "Epoch [25/100], Loss: 1.7535, accuracy: 0.3923\n",
      "Epoch [26/100], Loss: 1.7546, accuracy: 0.3911\n",
      "Epoch [27/100], Loss: 1.7531, accuracy: 0.3913\n",
      "Epoch [28/100], Loss: 1.7413, accuracy: 0.4002\n",
      "Epoch [29/100], Loss: 1.7408, accuracy: 0.3983\n",
      "Epoch [30/100], Loss: 1.7443, accuracy: 0.4017\n",
      "Epoch [31/100], Loss: 1.7508, accuracy: 0.3928\n",
      "Epoch [32/100], Loss: 1.7397, accuracy: 0.4030\n",
      "Epoch [33/100], Loss: 1.7460, accuracy: 0.3989\n",
      "Epoch [34/100], Loss: 1.7555, accuracy: 0.3900\n",
      "Epoch [35/100], Loss: 1.7657, accuracy: 0.3924\n",
      "Epoch [36/100], Loss: 1.7473, accuracy: 0.3933\n",
      "Epoch [37/100], Loss: 1.7428, accuracy: 0.3987\n",
      "Epoch [38/100], Loss: 1.7578, accuracy: 0.3930\n",
      "Epoch [39/100], Loss: 1.7551, accuracy: 0.3908\n",
      "Epoch [40/100], Loss: 1.7501, accuracy: 0.3944\n",
      "Epoch [41/100], Loss: 1.7391, accuracy: 0.4005\n",
      "Epoch [42/100], Loss: 1.7393, accuracy: 0.4012\n",
      "Epoch [43/100], Loss: 1.7436, accuracy: 0.3960\n",
      "Epoch [44/100], Loss: 1.7489, accuracy: 0.3945\n",
      "Epoch [45/100], Loss: 1.7438, accuracy: 0.3989\n",
      "Epoch [46/100], Loss: 1.7576, accuracy: 0.3926\n",
      "Epoch [47/100], Loss: 1.7470, accuracy: 0.3986\n",
      "Epoch [48/100], Loss: 1.7377, accuracy: 0.3979\n",
      "Epoch [49/100], Loss: 1.7352, accuracy: 0.3994\n",
      "Epoch [50/100], Loss: 1.7549, accuracy: 0.3904\n",
      "Epoch [51/100], Loss: 1.7529, accuracy: 0.3936\n",
      "Epoch [52/100], Loss: 1.7471, accuracy: 0.3943\n",
      "Epoch [53/100], Loss: 1.7293, accuracy: 0.4071\n",
      "Epoch [54/100], Loss: 1.7489, accuracy: 0.4007\n",
      "Epoch [55/100], Loss: 1.7354, accuracy: 0.4007\n",
      "Epoch [56/100], Loss: 1.7386, accuracy: 0.4051\n",
      "Epoch [57/100], Loss: 1.7275, accuracy: 0.4126\n",
      "Epoch [58/100], Loss: 1.7412, accuracy: 0.4021\n",
      "Epoch [59/100], Loss: 1.7324, accuracy: 0.4066\n",
      "Epoch [60/100], Loss: 1.7389, accuracy: 0.3990\n",
      "Epoch [61/100], Loss: 1.7347, accuracy: 0.4027\n",
      "Epoch [62/100], Loss: 1.7303, accuracy: 0.4104\n",
      "Epoch [63/100], Loss: 1.7422, accuracy: 0.4026\n",
      "Epoch [64/100], Loss: 1.7359, accuracy: 0.3998\n",
      "Epoch [65/100], Loss: 1.7413, accuracy: 0.4003\n",
      "Epoch [66/100], Loss: 1.7379, accuracy: 0.4044\n",
      "Epoch [67/100], Loss: 1.7447, accuracy: 0.4002\n",
      "Epoch [68/100], Loss: 1.7411, accuracy: 0.4021\n",
      "Epoch [69/100], Loss: 1.7364, accuracy: 0.4032\n",
      "Epoch [70/100], Loss: 1.7323, accuracy: 0.4038\n",
      "Epoch [71/100], Loss: 1.7494, accuracy: 0.3993\n",
      "Epoch [72/100], Loss: 1.7484, accuracy: 0.3971\n",
      "Epoch [73/100], Loss: 1.7331, accuracy: 0.4090\n",
      "Epoch [74/100], Loss: 1.7322, accuracy: 0.4062\n",
      "Epoch [75/100], Loss: 1.7319, accuracy: 0.4042\n",
      "Epoch [76/100], Loss: 1.7367, accuracy: 0.4032\n",
      "Epoch [77/100], Loss: 1.7273, accuracy: 0.4120\n",
      "Epoch [78/100], Loss: 1.7522, accuracy: 0.3882\n",
      "Epoch [79/100], Loss: 1.7393, accuracy: 0.4050\n",
      "Epoch [80/100], Loss: 1.7369, accuracy: 0.4023\n",
      "Epoch [81/100], Loss: 1.7295, accuracy: 0.4104\n",
      "Epoch [82/100], Loss: 1.7279, accuracy: 0.4100\n",
      "Epoch [83/100], Loss: 1.7246, accuracy: 0.4131\n",
      "Epoch [84/100], Loss: 1.7441, accuracy: 0.3996\n",
      "Epoch [85/100], Loss: 1.7605, accuracy: 0.3890\n",
      "Epoch [86/100], Loss: 1.7453, accuracy: 0.3948\n",
      "Epoch [87/100], Loss: 1.7466, accuracy: 0.3995\n",
      "Epoch [88/100], Loss: 1.7373, accuracy: 0.4031\n",
      "Epoch [89/100], Loss: 1.7532, accuracy: 0.3944\n",
      "Epoch [90/100], Loss: 1.7422, accuracy: 0.4008\n",
      "Epoch [91/100], Loss: 1.7341, accuracy: 0.4038\n",
      "Epoch [92/100], Loss: 1.7493, accuracy: 0.3968\n",
      "Epoch [93/100], Loss: 1.7407, accuracy: 0.4056\n",
      "Epoch [94/100], Loss: 1.7419, accuracy: 0.3984\n",
      "Epoch [95/100], Loss: 1.7377, accuracy: 0.4030\n",
      "Epoch [96/100], Loss: 1.7329, accuracy: 0.4084\n",
      "Epoch [97/100], Loss: 1.7295, accuracy: 0.4138\n",
      "Epoch [98/100], Loss: 1.7380, accuracy: 0.4010\n",
      "Epoch [99/100], Loss: 1.7422, accuracy: 0.3981\n",
      "Epoch [100/100], Loss: 1.7389, accuracy: 0.4014\n"
     ]
    }
   ],
   "source": [
    "trainList = fit(100, model, lossFn, optimizer, trainLoader, valLoader, metric=accuracy)"
   ]
  },
  {
   "cell_type": "code",
   "execution_count": 42,
   "id": "dde46bfe",
   "metadata": {},
   "outputs": [
    {
     "name": "stdout",
     "output_type": "stream",
     "text": [
      "Files already downloaded and verified\n"
     ]
    }
   ],
   "source": [
    "test = torchvision.datasets.CIFAR10(root='./data', train=False, download=True, transform=torchvision.transforms.ToTensor())\n",
    "testLoader = DataLoader(test, batchSize)"
   ]
  },
  {
   "cell_type": "code",
   "execution_count": 43,
   "id": "f2cdb7ee",
   "metadata": {},
   "outputs": [
    {
     "name": "stdout",
     "output_type": "stream",
     "text": [
      "test set accuracy: \n",
      " 0.3968\n",
      "cross validation set accuracy: \n",
      " 0.4014\n",
      "training set accuracy: \n",
      " 0.444925\n"
     ]
    }
   ],
   "source": [
    "avgLoss, total, avgMetric = evaluate(model, F.cross_entropy, testLoader, metric=accuracy)\n",
    "print(\"test set accuracy: \\n\", avgMetric)\n",
    "avgLoss, total, avgMetric = evaluate(model, F.cross_entropy, valLoader, metric=accuracy)\n",
    "print(\"cross validation set accuracy: \\n\",avgMetric)\n",
    "avgLoss, total, avgMetric = evaluate(model, F.cross_entropy, trainLoader, metric=accuracy)\n",
    "print(\"training set accuracy: \\n\",avgMetric)"
   ]
  },
  {
   "cell_type": "code",
   "execution_count": null,
   "id": "fd053846",
   "metadata": {},
   "outputs": [],
   "source": []
  }
 ],
 "metadata": {
  "kernelspec": {
   "display_name": "Python 3 (ipykernel)",
   "language": "python",
   "name": "python3"
  },
  "language_info": {
   "codemirror_mode": {
    "name": "ipython",
    "version": 3
   },
   "file_extension": ".py",
   "mimetype": "text/x-python",
   "name": "python",
   "nbconvert_exporter": "python",
   "pygments_lexer": "ipython3",
   "version": "3.10.11"
  }
 },
 "nbformat": 4,
 "nbformat_minor": 5
}

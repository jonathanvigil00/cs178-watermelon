{
 "cells": [
  {
   "cell_type": "code",
   "execution_count": 17,
   "id": "c56afa2d",
   "metadata": {},
   "outputs": [],
   "source": [
    "import numpy as np\n",
    "from sklearn.neighbors import KNeighborsClassifier\n",
    "from sklearn.metrics import accuracy_score\n",
    "from sklearn.model_selection import train_test_split\n",
    "from sklearn.preprocessing import StandardScaler\n",
    "import tensorflow as tf\n",
    "import matplotlib.pyplot as plt"
   ]
  },
  {
   "cell_type": "code",
   "execution_count": 21,
   "id": "f4c8f3cc",
   "metadata": {},
   "outputs": [],
   "source": [
    "#load and reshape image data into training and testing datasets\n",
    "(X_train, y_train), (X_test, y_test) = tf.keras.datasets.cifar10.load_data()\n",
    "X_train = X_train.reshape(X_train.shape[0], -1)\n",
    "X_test = X_test.reshape(X_test.shape[0], -1)\n",
    "y_train = y_train.ravel()\n",
    "y_test = y_test.ravel()"
   ]
  },
  {
   "cell_type": "code",
   "execution_count": 24,
   "id": "90428b10",
   "metadata": {},
   "outputs": [],
   "source": [
    "#split training data into training and validation set\n",
    "X_train, X_val, y_train, y_val = train_test_split(X_train, y_train, test_size=0.2, random_state=42)\n"
   ]
  },
  {
   "cell_type": "code",
   "execution_count": 25,
   "id": "fe170280",
   "metadata": {},
   "outputs": [],
   "source": [
    "#scale the features\n",
    "\n",
    "scaler = StandardScaler()\n",
    "X_train = scaler.fit_transform(X_train)\n",
    "X_val = scaler.transform(X_val)\n",
    "X_test = scaler.transform(X_test)"
   ]
  },
  {
   "cell_type": "code",
   "execution_count": 29,
   "id": "b999c113",
   "metadata": {},
   "outputs": [
    {
     "name": "stdout",
     "output_type": "stream",
     "text": [
      "[0.3367, 0.3272, 0.317, 0.3135, 0.3076, 0.3044, 0.3006, 0.3011, 0.3002, 0.297]\n",
      "Best k value: 1\n",
      "Validation Accuracy: 0.3367\n"
     ]
    }
   ],
   "source": [
    "# Define a range of k values to iterate over\n",
    "k_values = range(1, 100, 10)\n",
    "\n",
    "# Create a list to store validation accuracies for each k value\n",
    "val_accuracies = []\n",
    "\n",
    "# Iterate over different k values\n",
    "for k in k_values:\n",
    "    # Create a KNN classifier with the current k value\n",
    "    knn = KNeighborsClassifier(n_neighbors=k)\n",
    "\n",
    "    # Train the classifier\n",
    "    knn.fit(X_train, y_train)\n",
    "\n",
    "    # Predict the labels for the validation set\n",
    "    y_val_pred = knn.predict(X_val)\n",
    "\n",
    "    # Calculate the accuracy of the classifier on the validation set\n",
    "    val_accuracy = accuracy_score(y_val, y_val_pred)\n",
    "\n",
    "    # Store the validation accuracy for the current k value\n",
    "    val_accuracies.append(val_accuracy)\n",
    "\n",
    "# Find the best k value based on the highest validation accuracy\n",
    "best_k = k_values[np.argmax(val_accuracies)]\n",
    "best_val_accuracy = max(val_accuracies)\n",
    "\n",
    "print(val_accuracies)\n",
    "print(\"Best k value:\", best_k)\n",
    "print(\"Validation Accuracy:\", best_val_accuracy)"
   ]
  },
  {
   "cell_type": "code",
   "execution_count": 32,
   "id": "eed40348",
   "metadata": {},
   "outputs": [
    {
     "data": {
      "text/plain": [
       "(0.0, 0.7123349999999999)"
      ]
     },
     "execution_count": 32,
     "metadata": {},
     "output_type": "execute_result"
    },
    {
     "data": {
      "image/png": "[encoded data removed]",
      "text/plain": [
       "<Figure size 600x600 with 1 Axes>"
      ]
     },
     "metadata": {},
     "output_type": "display_data"
    }
   ],
   "source": [
    "figure, axes = plt.subplots(1, figsize=(6,6))\n",
    "k_vals = [1,2,5,10,50,100,110]\n",
    "\n",
    "err_tr = np.zeros(len(k_vals))\n",
    "err_te = np.zeros(len(k_vals))\n",
    "\n",
    "for i, k in enumerate(k_vals):\n",
    "    knn = KNeighborsClassifier(n_neighbors=k)\n",
    "    knn.fit(X_train, y_train)\n",
    "    yhat_tr = knn.predict(X_train)\n",
    "    yhat_te = knn.predict(X_val)\n",
    "    err_te[i] = 1. - accuracy_score(y_val, yhat_te)\n",
    "axes.semilogx(k_vals, err_te, marker='o', c='green', label='Test')\n",
    "axes.set_xlabel('k')\n",
    "axes.set_ylabel('Error Rate')\n",
    "axes.legend()\n",
    "axes.set_ylim((0,None))"
   ]
  },
  {
   "cell_type": "code",
   "execution_count": 33,
   "id": "5ba9003e",
   "metadata": {},
   "outputs": [
    {
     "name": "stdout",
     "output_type": "stream",
     "text": [
      "Test Accuracy: 0.3562\n"
     ]
    }
   ],
   "source": [
    "# Train the classifier with the best k value using the combined training and validation sets\n",
    "knn_best = KNeighborsClassifier(n_neighbors=best_k)\n",
    "knn_best.fit(np.concatenate((X_train, X_val)), np.concatenate((y_train, y_val)))\n",
    "\n",
    "# Predict the labels for the test set using the best k value\n",
    "y_test_pred = knn_best.predict(X_test)\n",
    "\n",
    "# Calculate the accuracy of the classifier on the test set\n",
    "test_accuracy = accuracy_score(y_test, y_test_pred)\n",
    "print(\"Test Accuracy:\", test_accuracy)\n"
   ]
  },
  {
   "cell_type": "code",
   "execution_count": null,
   "id": "620981ca",
   "metadata": {},
   "outputs": [],
   "source": []
  },
  {
   "cell_type": "code",
   "execution_count": null,
   "id": "46aa24cd",
   "metadata": {},
   "outputs": [],
   "source": [
    "\n"
   ]
  },
  {
   "cell_type": "code",
   "execution_count": null,
   "id": "fd95288f",
   "metadata": {},
   "outputs": [],
   "source": []
  }
 ],
 "metadata": {
  "kernelspec": {
   "display_name": "Python 3 (ipykernel)",
   "language": "python",
   "name": "python3"
  },
  "language_info": {
   "codemirror_mode": {
    "name": "ipython",
    "version": 3
   },
   "file_extension": ".py",
   "mimetype": "text/x-python",
   "name": "python",
   "nbconvert_exporter": "python",
   "pygments_lexer": "ipython3",
   "version": "3.10.10"
  }
 },
 "nbformat": 4,
 "nbformat_minor": 5
}
